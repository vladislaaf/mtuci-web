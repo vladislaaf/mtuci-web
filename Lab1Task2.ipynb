{
 "cells": [
  {
   "cell_type": "code",
   "execution_count": 16,
   "id": "10cf523e",
   "metadata": {},
   "outputs": [
    {
     "name": "stdout",
     "output_type": "stream",
     "text": [
      "Введите размер матрицы по горизонтали: 10\n",
      "Введите размер матрицы по вертикали: 10\n",
      "Введите минимальное случайное число в матрице: 9\n",
      "Введите максимальное случайное число в матрице: 123\n",
      "121,58,93,37,44,115,109,106,84,44,9,19,46,38,39,21,59,25,36,117,99,92,85,13,24,96,21,55,117,23,43,84,47,68,120,95,107,47,70,118,113,47,72,14,65,37,13,44,17,121,116,16,115,109,49,65,109,102,85,25,121,23,66,26,76,65,38,10,90,109,47,21,118,77,39,49,34,39,26,118,123,50,70,39,40,82,120,86,11,91,70,59,56,56,87,105,53,44,52,64,"
     ]
    }
   ],
   "source": [
    "import random\n",
    "from __future__ import print_function\n",
    "print (\"Введите размер матрицы по горизонтали: \", end=\"\")\n",
    "m = int(input());\n",
    "print (\"Введите размер матрицы по вертикали: \", end=\"\")\n",
    "n = int(input());\n",
    "print (\"Введите минимальное случайное число в матрице: \", end=\"\")\n",
    "min_limit = int(input());\n",
    "print (\"Введите максимальное случайное число в матрице: \", end=\"\")\n",
    "max_limit = int(input());\n",
    "a = [];\n",
    "a = [[randint(min_limit, max_limit) for i in range(n)] for j in range(m)]\n",
    "for i in range(n):\n",
    "    for j in range(m):\n",
    "        print(a[i][j], end = ',')"
   ]
  },
  {
   "cell_type": "code",
   "execution_count": null,
   "id": "f67ef245",
   "metadata": {},
   "outputs": [],
   "source": []
  },
  {
   "cell_type": "code",
   "execution_count": null,
   "id": "4ec5cfaf",
   "metadata": {},
   "outputs": [],
   "source": []
  }
 ],
 "metadata": {
  "kernelspec": {
   "display_name": "Python 3 (ipykernel)",
   "language": "python",
   "name": "python3"
  },
  "language_info": {
   "codemirror_mode": {
    "name": "ipython",
    "version": 3
   },
   "file_extension": ".py",
   "mimetype": "text/x-python",
   "name": "python",
   "nbconvert_exporter": "python",
   "pygments_lexer": "ipython3",
   "version": "3.9.7"
  }
 },
 "nbformat": 4,
 "nbformat_minor": 5
}
