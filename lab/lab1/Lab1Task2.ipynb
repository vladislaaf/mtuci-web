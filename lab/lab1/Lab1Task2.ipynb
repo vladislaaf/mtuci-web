{
 "cells": [
  {
   "cell_type": "code",
   "execution_count": 26,
   "id": "10cf523e",
   "metadata": {},
   "outputs": [
    {
     "name": "stdout",
     "output_type": "stream",
     "text": [
      "Введите размер матрицы по горизонтали: 5\n",
      "Введите размер матрицы по вертикали: 7\n",
      "Введите минимальное случайное число в матрице: 1\n",
      "Введите максимальное случайное число в матрице: 99\n",
      "  67  23  18  84  32\n",
      "  54  41  59   6  25\n",
      "  88  65  20  63  40\n",
      "  23  83  56  55   9\n",
      "  60  35  60  91  31\n",
      "  47  43  26  66  28\n",
      "  91  47   7  20  98\n"
     ]
    }
   ],
   "source": [
    "from random import randint\n",
    "from __future__ import print_function\n",
    "\n",
    "def printMatrix (a): \n",
    "   for i in range (n): \n",
    "      for j in range (m): \n",
    "          print ( \"{:4d}\".format(a[i][j]), end = \"\" ) \n",
    "      print ()\n",
    "\n",
    "m = int(input(\"Введите размер матрицы по горизонтали: \"));\n",
    "n = int(input(\"Введите размер матрицы по вертикали: \"));\n",
    "min_limit = int(input(\"Введите минимальное случайное число в матрице: \"));\n",
    "max_limit = int(input(\"Введите максимальное случайное число в матрице: \"));\n",
    "a = [];\n",
    "for i in range(n):\n",
    "    a.append([])\n",
    "    for j in range (m):\n",
    "        a[i].append(random.randint(min_limit, max_limit))\n",
    "\n",
    "printMatrix (a)"
   ]
  }
 ],
 "metadata": {
  "kernelspec": {
   "display_name": "Python 3 (ipykernel)",
   "language": "python",
   "name": "python3"
  },
  "language_info": {
   "codemirror_mode": {
    "name": "ipython",
    "version": 3
   },
   "file_extension": ".py",
   "mimetype": "text/x-python",
   "name": "python",
   "nbconvert_exporter": "python",
   "pygments_lexer": "ipython3",
   "version": "3.9.7"
  }
 },
 "nbformat": 4,
 "nbformat_minor": 5
}
