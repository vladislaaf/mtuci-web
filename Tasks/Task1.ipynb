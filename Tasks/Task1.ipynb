{
 "cells": [
  {
   "cell_type": "code",
   "execution_count": 3,
   "id": "e4b60e81",
   "metadata": {
    "scrolled": true
   },
   "outputs": [
    {
     "name": "stdout",
     "output_type": "stream",
     "text": [
      "[65, 7, 6]\n"
     ]
    }
   ],
   "source": [
    "A = [6,65,7,3,1]\n",
    "A.sort()\n",
    "triangle = []\n",
    "if(len(A) >= 3):triangle = [A[len(A)-1], A[len(A)-2], A[len(A)-3]]\n",
    "print(triangle)"
   ]
  },
  {
   "cell_type": "markdown",
   "id": "e78643c7",
   "metadata": {},
   "source": [
    "##### "
   ]
  },
  {
   "cell_type": "code",
   "execution_count": 10,
   "id": "8c4c2188",
   "metadata": {
    "scrolled": true
   },
   "outputs": [
    {
     "name": "stdout",
     "output_type": "stream",
     "text": [
      "Введите количество элементов массива \n",
      "3\n",
      "123\n",
      "99\n",
      "4\n",
      "994123\n"
     ]
    }
   ],
   "source": [
    "def big(a, b):\n",
    "    d=1\n",
    "    if (int(a[0])>int(b[0])):\n",
    "        return True\n",
    "    if int(a[0])==int(b[0]):\n",
    "        for i in range(1, max(len(a), len(b))):\n",
    "            if((len(a))<=i):\n",
    "                d=0\n",
    "                if (b[i]>b[i-1]):\n",
    "                    return False\n",
    "            if((len(b))<=i):\n",
    "                d=0\n",
    "                if (a[i]>a[i-1]):\n",
    "                    return False\n",
    "            if d:\n",
    "                if((a[i]>b[i])): return True\n",
    "                else: return False \n",
    "            else: return False \n",
    "    return False            \n",
    "                \n",
    "\n",
    "print(\"Введите количество элементов массива \")\n",
    "d = int(input(\"Введите элемент: \"))\n",
    "a = [0] * d\n",
    "for i in range(d):\n",
    "    a[i] = str(input())\n",
    "\n",
    "for i in range(d-1):\n",
    "    for j in range(d-i-1):\n",
    "        if big(a[j], a[j+1]):\n",
    "            a[j], a[j+1] = a[j+1], a[j]\n",
    "f=''\n",
    "for i in range(d):\n",
    "    f+=a[d-1-i]\n",
    "print(f)"
   ]
  },
  {
   "cell_type": "code",
   "execution_count": 14,
   "id": "ec0f4c53",
   "metadata": {},
   "outputs": [
    {
     "name": "stdout",
     "output_type": "stream",
     "text": [
      "4\n",
      "4\n",
      "12\n",
      "34\n",
      "23\n",
      "67\n",
      "900\n",
      "456\n",
      "13\n",
      "67\n",
      "342\n",
      "123\n",
      "563\n",
      "66\n",
      "81\n",
      "90\n",
      "14\n",
      "65\n",
      "12 34 23 67 \n",
      "900 456 13 67 \n",
      "342 123 563 66 \n",
      "81 90 14 65 \n",
      "\n",
      "\n",
      "\n",
      "\n",
      "12 34 23 13 \n",
      "900 65 67 67 \n",
      "342 81 456 66 \n",
      "123 90 14 563 \n"
     ]
    }
   ],
   "source": [
    "m = int(input())\n",
    "n = int(input())\n",
    "mat = [[0]*n for i in range(m)]\n",
    "for i in range(m):\n",
    "    for j in range(n):\n",
    "        mat[i][j] = int(input())\n",
    "\n",
    "for i in range(len(mat)): # len(mat) - возвращает количество строк в матрице mat\n",
    "    for j in range(len(mat[i])): # len(mat[i]) - возвращает количество элементов в строке i\n",
    "        print(mat[i][j], end = ' ')\n",
    "    print()\n",
    "\n",
    "x, y = [], []\n",
    "for i in range(m):\n",
    "    for j in range(n):\n",
    "        if i == j:\n",
    "            x.append(mat[i][j])\n",
    "        elif j == n - 1 - i:\n",
    "            y.append(mat[i][j])\n",
    "x = sorted(x)\n",
    "y = sorted(y)\n",
    "for i in range(m):\n",
    "    for j in range(n):\n",
    "        if i == j:\n",
    "            mat[i][j] = min(x)\n",
    "            x.remove(min(x))\n",
    "        elif j == n - 1 - i:\n",
    "            mat[i][j] = min(y)\n",
    "            y.remove(min(y))\n",
    "    print()\n",
    "for i in range(len(mat)):\n",
    "    for j in range(len(mat[i])):\n",
    "        print(mat[i][j], end = ' ')\n",
    "    print()"
   ]
  },
  {
   "cell_type": "markdown",
   "id": "7cd137cc",
   "metadata": {},
   "source": [
    "### "
   ]
  }
 ],
 "metadata": {
  "kernelspec": {
   "display_name": "Python 3 (ipykernel)",
   "language": "python",
   "name": "python3"
  },
  "language_info": {
   "codemirror_mode": {
    "name": "ipython",
    "version": 3
   },
   "file_extension": ".py",
   "mimetype": "text/x-python",
   "name": "python",
   "nbconvert_exporter": "python",
   "pygments_lexer": "ipython3",
   "version": "3.9.7"
  }
 },
 "nbformat": 4,
 "nbformat_minor": 5
}
