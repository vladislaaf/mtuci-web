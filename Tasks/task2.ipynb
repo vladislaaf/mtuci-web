{
 "cells": [
  {
   "cell_type": "code",
   "execution_count": 14,
   "id": "d729abee",
   "metadata": {
    "scrolled": true
   },
   "outputs": [
    {
     "name": "stdout",
     "output_type": "stream",
     "text": [
      "Введите количество элементов массива: 5\n",
      "19\n",
      "23\n",
      "17\n",
      "9\n",
      "11\n",
      "Стороны треугольника:  23 19 17 Периметр равен -  59 "
     ]
    }
   ],
   "source": [
    "#Массив A состоит из целых положительных чисел длин отрезков. \n",
    "#Составьте из трех отрезков такой треугольник, чтобы его периметр был максимально возможным. \n",
    "#Если невозможно составить треугольник с положительной площадью функция возвращает 0.\n",
    "\n",
    "def Triangle(a, b, c):\n",
    "    return a + b > c and a + c > b and b + c > a\n",
    "\n",
    "n = int(input(\"Введите количество элементов массива: \"))\n",
    "M = [int(input()) for i in range (n)]\n",
    "M.sort(reverse= True)\n",
    "\n",
    "for i in range(n):\n",
    "    if Triangle(M[i], M[i+1], M[i+2]):\n",
    "        print(\"Стороны треугольника: \", M[i], M[i+1], M[i+2], \"Периметр равен - \", (M[i]+M[i+1]+M[i+2]), end = \" \")\n",
    "        break"
   ]
  },
  {
   "cell_type": "code",
   "execution_count": 13,
   "id": "ef3c20b2",
   "metadata": {
    "scrolled": true
   },
   "outputs": [
    {
     "name": "stdout",
     "output_type": "stream",
     "text": [
      "Введите длину массива: 5\n",
      "Введите 0 элемент массива: 97\n",
      "Введите 1 элемент массива: 19\n",
      "Введите 2 элемент массива: 26\n",
      "Введите 3 элемент массива: 30\n",
      "Введите 4 элемент массива: 74\n",
      "9977643210     \n"
     ]
    }
   ],
   "source": [
    "#Дан массив неотрицательных целых чисел nums. \n",
    "#Расположите их в таком порядке, чтобы вместе они образовали максимально возможное число.\n",
    "\n",
    "n = int(input(\"Введите длину массива: \"))\n",
    "nums = [int(input(\"Введите \" + str(i) + \" элемент массива: \")) for i in range(n)]\n",
    "\n",
    "bigNumber = \"\"\n",
    "for i in nums:\n",
    "    bigNumber += str(i)+ \" \" \n",
    "\n",
    "sortedbigNumber = sorted(bigNumber, reverse = True)\n",
    "sortedbigNumber2 = ''.join(sortedbigNumber)\n",
    "print(sortedbigNumber2)"
   ]
  },
  {
   "cell_type": "code",
   "execution_count": 99,
   "id": "68897ae7",
   "metadata": {},
   "outputs": [
    {
     "name": "stdout",
     "output_type": "stream",
     "text": [
      "Введите размер матрицы по горизонтали: 10\n",
      "Введите размер матрицы по вертикали: 9\n",
      "5 1 1 8 7 3 6 4 1 3\n",
      "4 7 3 3 7 2 6 7 4 3\n",
      "3 9 6 6 6 9 1 9 7 2\n",
      "8 5 8 1 3 3 4 3 4 2\n",
      "9 8 5 5 6 2 8 3 1 8\n",
      "5 7 6 6 9 9 7 3 4 5\n",
      "9 2 2 5 6 1 7 2 5 9\n",
      "8 2 1 4 1 6 3 8 3 6\n",
      "8 6 4 5 3 1 3 8 7 3\n",
      "\n",
      "9 1 1 8 7 3 6 4 1 1\n",
      "4 8 3 3 7 2 6 7 2 3\n",
      "3 9 7 6 6 9 1 3 7 2\n",
      "8 5 8 7 3 3 4 3 4 2\n",
      "9 8 5 5 7 4 8 3 1 8\n",
      "5 7 6 6 5 6 7 3 4 5\n",
      "9 2 2 6 6 1 6 2 5 9\n",
      "8 2 9 4 1 6 3 5 3 6\n",
      "8 9 4 5 3 1 3 8 1 3\n"
     ]
    }
   ],
   "source": [
    "#Дана матрица mat размером m * n, значения целочисленные. \n",
    "#Напишите функцию, сортирующую каждую диагональ матрицы по возрастанию и возвращающую получившуюся матрицу.\n",
    "\n",
    "from random import randint\n",
    "n = int(input(\"Введите размер матрицы по горизонтали: \"))\n",
    "m = int(input(\"Введите размер матрицы по вертикали: \"))\n",
    "mat = [[random.randint(1, 9) for c in range(n)] for r in range(m)]\n",
    "for i in mat:\n",
    "    print(*i)\n",
    "\n",
    "\n",
    "for k in range(n - 1): \n",
    "    for i in range(m - k - 1):\n",
    "        if mat[i][i] < mat[i+1][i+1]:\n",
    "            mat[i][i], mat[i+1][i+1] = mat[i+1][i+1], mat[i][i]\n",
    "        j = n - i - 1\n",
    "        if mat[i][j] > mat[i + 1][j - 1]:\n",
    "            mat[i][j], mat[i + 1][j - 1] = mat[i + 1][j - 1], mat[i][j]\n",
    "\n",
    "print()\n",
    "for i in mat:\n",
    "    print(*i)"
   ]
  }
 ],
 "metadata": {
  "kernelspec": {
   "display_name": "Python 3 (ipykernel)",
   "language": "python",
   "name": "python3"
  },
  "language_info": {
   "codemirror_mode": {
    "name": "ipython",
    "version": 3
   },
   "file_extension": ".py",
   "mimetype": "text/x-python",
   "name": "python",
   "nbconvert_exporter": "python",
   "pygments_lexer": "ipython3",
   "version": "3.9.7"
  }
 },
 "nbformat": 4,
 "nbformat_minor": 5
}
