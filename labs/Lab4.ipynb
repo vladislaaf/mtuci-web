{
 "cells": [
  {
   "cell_type": "markdown",
   "id": "fifteen-sailing",
   "metadata": {},
   "source": [
    "# Лабораторная работа №4\n",
    "## Выполнил студент группы БВТ2004 Станолевич Владислав"
   ]
  },
  {
   "cell_type": "markdown",
   "id": "arctic-stocks",
   "metadata": {},
   "source": [
    "Реализовать следующие структуры данных:\n",
    "  \n",
    "● <b> Стек (stack): </b>  \n",
    "Операции для стека: \n",
    "<i> инициализация, проверка на пустоту, добавление нового элемента в начало, извлечение элемента из начала;  </i>  \n",
    "  \n",
    "● <b> Дек (двусторонняя очередь, deque):  </b>  \n",
    "Операции для дека: \n",
    "<i> инициализация, проверка на пустоту, добавление нового элемента в начало, добавление нового элемента в конец, извлечение элемента из начала, извлечение элемента из конца. </i>  \n",
    "  \n",
    "<i> Разработать программу обработки данных, содержащихся в заранее подготовленном txt-файле, в соответствии с заданиями, применив указанную в задании структуру данных. Результат работы программы вывести на экран и сохранить в отдельном txt-файле. </i>"
   ]
  },
  {
   "cell_type": "code",
   "execution_count": 113,
   "id": "6cef725d",
   "metadata": {},
   "outputs": [],
   "source": [
    "class Stack:\n",
    "    \n",
    "    def Empty(self):\n",
    "        return self.items == []\n",
    "    \n",
    "    def __init__(self):\n",
    "        self.items = []\n",
    "\n",
    "    def push(self, item):\n",
    "        self.items.append(item)\n",
    "\n",
    "    def pop(self):\n",
    "        return self.items.pop()\n",
    "\n",
    "    def peek(self):\n",
    "        return self.items[len(self.items)-1]\n",
    "\n",
    "    def size(self):\n",
    "        return len(self.items)"
   ]
  },
  {
   "cell_type": "code",
   "execution_count": 114,
   "id": "7a21d8a5",
   "metadata": {},
   "outputs": [],
   "source": [
    "class Deque:\n",
    "    \n",
    "    def __init__(self):\n",
    "        self.items = []\n",
    "\n",
    "    def isEmpty(self):\n",
    "        return self.items == []\n",
    "\n",
    "    def addFront(self, item):\n",
    "        self.items.append(item)\n",
    "\n",
    "    def addRear(self, item):\n",
    "        self.items.insert(0,item)\n",
    "\n",
    "    def removeFront(self):\n",
    "        return self.items.pop()\n",
    "\n",
    "    def removeRear(self):\n",
    "        return self.items.pop(0)\n",
    "\n",
    "    def size(self):\n",
    "        return len(self.items)\n",
    "    \n",
    "    def peek(self):\n",
    "        return self.items[-1]"
   ]
  },
  {
   "cell_type": "markdown",
   "id": "5d7edb08",
   "metadata": {
    "scrolled": true
   },
   "source": [
    "### Задание №1\n",
    "Отсортировать строки файла, содержащие названия книг, в алфавитном порядке с использованием двух деков."
   ]
  },
  {
   "cell_type": "code",
   "execution_count": 108,
   "id": "17702ade",
   "metadata": {},
   "outputs": [
    {
     "name": "stdout",
     "output_type": "stream",
     "text": [
      "\n",
      "Антипов\n",
      "Брагин\n",
      "Даль\n",
      "Егоров\n",
      "Ерохин\n",
      "Латышев\n",
      "Розенталь\n",
      "Твен\n",
      "Толстой\n",
      "Шульц\n"
     ]
    }
   ],
   "source": [
    "file = open('text1.txt', 'r+')\n",
    "books = 'Толстой Антипов Твен Шульц Ерохин Брагин Даль Егоров Латышев Розенталь '\n",
    "\n",
    "deq1 = Deque()\n",
    "deq2 = Deque()\n",
    "\n",
    "books = books.split(\" \") # books = books.split(\"/n\")\n",
    "for book in books:\n",
    "    deq1.addRear(book)\n",
    "    \n",
    "while not deq1.isEmpty():\n",
    "    a = deq1.removeRear()\n",
    "    while not deq2.isEmpty() and deq2.peek() > a:\n",
    "        deq1.addRear(deq2.removeFront()) \n",
    "    deq2.addFront(a)\n",
    "while not deq2.isEmpty():\n",
    "    print(deq2.removeRear())\n",
    "\n",
    "file.close()"
   ]
  },
  {
   "cell_type": "markdown",
   "id": "49fbd2a0",
   "metadata": {},
   "source": [
    "### Задание №2\n",
    "Дек содержит последовательность символов для шифровки сообщений. Дан текстовый файл, содержащий зашифрованное сообщение. Пользуясь деком, расшифровать текст. \n",
    "Известно, что при шифровке каждый символ сообщения заменялся следующим за ним в деке по часовой стрелке через один."
   ]
  },
  {
   "cell_type": "code",
   "execution_count": 109,
   "id": "81cab7a8",
   "metadata": {},
   "outputs": [
    {
     "name": "stdout",
     "output_type": "stream",
     "text": [
      "['т', 'е', 'в', 'и', 'р', 'п']\n"
     ]
    }
   ],
   "source": [
    "file = open('text2.txt', 'r')\n",
    "str = 'иветпр' \n",
    "d = Deque()\n",
    "for i in range (len(str)-2,len(str)+len(str)-2,1):\n",
    "    if (i<len(str)):\n",
    "        d.addRear(str[i])\n",
    "    else:\n",
    "        d.addRear(str[i-len(str)])\n",
    "print(d.items)\n",
    "file.close()"
   ]
  },
  {
   "cell_type": "markdown",
   "id": "c0894f47",
   "metadata": {},
   "source": [
    "### Задание №3\n",
    "Даны три стержня и n дисков различного размера. Диски можно надевать на стержни, образуя из них башни. Перенести n дисков со стержня А на стержень С, сохранив их первоначальный порядок. При переносе дисков необходимо соблюдать следующие правила:\n",
    "- на каждом шаге со стержня на стержень переносить только один диск;\n",
    "- диск нельзя помещать на диск меньшего размера;\n",
    "- для промежуточного хранения можно использовать стержень В.\n",
    "Реализовать алгоритм, используя три стека вместо стержней А, В, С. Информация о дисках хранится в исходном файле."
   ]
  },
  {
   "cell_type": "code",
   "execution_count": 110,
   "id": "9e91a9d4",
   "metadata": {},
   "outputs": [
    {
     "name": "stdout",
     "output_type": "stream",
     "text": [
      "[]\n",
      "[]\n",
      "[1, 2, 3, 4, 5, 6, 7]\n"
     ]
    }
   ],
   "source": [
    "from typing import TypeVar, Generic, List\n",
    "T = TypeVar('T')\n",
    "\n",
    "class Stack(Generic[T]):\n",
    "\n",
    "    def __init__(self) -> None:\n",
    "        self._container: List[T] = []\n",
    "\n",
    "    def push(self, item: T) -> None:\n",
    "          self._container.append(item)\n",
    "\n",
    "    def pop(self) -> T:\n",
    "          return self._container.pop()\n",
    "\n",
    "    def __repr__(self) -> str:\n",
    "          return repr(self._container)\n",
    "num_discs: int = 7\n",
    "tower_a: Stack[int] = Stack()\n",
    "tower_b: Stack[int] = Stack()\n",
    "tower_c: Stack[int] = Stack()\n",
    "for i in range(1, num_discs + 1):\n",
    "     tower_a.push(i)\n",
    "def hanoi(begin: Stack[int], end: Stack[int], temp: Stack[int], n: int) ->None:\n",
    "    if n == 1:\n",
    "        end.push(begin.pop())\n",
    "    else:\n",
    "        hanoi(begin, temp, end, n-1)\n",
    "        hanoi(begin, end, temp, 1)\n",
    "        hanoi(temp, end, begin, n-1)\n",
    "if __name__ == \"__main__\":\n",
    "    hanoi(tower_a, tower_c, tower_b, num_discs)\n",
    "    print(tower_a)\n",
    "    print(tower_b)\n",
    "    print(tower_c)"
   ]
  },
  {
   "cell_type": "markdown",
   "id": "e5b0be17",
   "metadata": {},
   "source": [
    "### Задание №4\n",
    "Дан текстовый файл с программой на алгоритмическом языке. За один просмотр файла проверить баланс круглых скобок в тексте, используя стек."
   ]
  },
  {
   "cell_type": "code",
   "execution_count": 115,
   "id": "5b1df60a",
   "metadata": {
    "scrolled": true
   },
   "outputs": [
    {
     "name": "stdout",
     "output_type": "stream",
     "text": [
      "Ошибки со скобками не найдены\n"
     ]
    }
   ],
   "source": [
    "def parChecker(symbolstring):\n",
    "    s = Stack()\n",
    "    b = True\n",
    "    index = 0\n",
    "    while ((index < len(symbolstring)) and b):\n",
    "        symbol = symbolstring[index]\n",
    "        if symbol == \"(\":\n",
    "            s.push(symbol)\n",
    "        else:\n",
    "            if s.Empty():\n",
    "                b = False\n",
    "            else:\n",
    "                s.pop()\n",
    "        index = index + 1\n",
    "\n",
    "    if b and s.Empty():\n",
    "        return True\n",
    "    else:\n",
    "        return False\n",
    "\n",
    "file = open('text4.txt', 'r')\n",
    "line = file.read()\n",
    "if (parChecker(line)):\n",
    "    print('Ошибки со скобками найдены')\n",
    "else:\n",
    "    print('Ошибки со скобками не найдены')\n",
    "    \n",
    "\n",
    "file.close()"
   ]
  },
  {
   "attachments": {
    "image.png": {
     "image/png": "[encoded data removed]"
    }
   },
   "cell_type": "markdown",
   "id": "5679b887",
   "metadata": {},
   "source": [
    "![image.png](attachment:image.png)"
   ]
  },
  {
   "cell_type": "markdown",
   "id": "c44cdd6b",
   "metadata": {},
   "source": [
    "### Задание №5\n",
    "Дан текстовый файл с программой на алгоритмическом языке. За один просмотр файла проверить баланс квадратных скобок в тексте, используя дек."
   ]
  },
  {
   "cell_type": "code",
   "execution_count": 86,
   "id": "36b8f400",
   "metadata": {
    "scrolled": true
   },
   "outputs": [
    {
     "name": "stdout",
     "output_type": "stream",
     "text": [
      "Ошибки со скобками найдены\n"
     ]
    }
   ],
   "source": [
    "def parChecker(symbolstring):\n",
    "    s = Deque()\n",
    "    b = True\n",
    "    index = 0\n",
    "    while ((index < len(symbolstring)) and b):\n",
    "        symbol = symbolstring[index]\n",
    "        if symbol == \"(\":\n",
    "            s.addFront(symbol)\n",
    "        else:\n",
    "            if symbol == \")\":\n",
    "                if s.isEmpty():\n",
    "                    b = False\n",
    "                else:\n",
    "                    s.removeRear()\n",
    "        index = index + 1\n",
    "\n",
    "    if b and s.isEmpty():\n",
    "        return True\n",
    "    else:\n",
    "        return False\n",
    "                \n",
    "file = open('text3.txt', 'r')\n",
    "stroka = file.read()\n",
    "if (parChecker(stroka)):\n",
    "    print('Ошибок со скобками не найдено')\n",
    "else:\n",
    "    print('Ошибки со скобками найдены')\n",
    "    \n",
    "\n",
    "file.close()   \n",
    "    "
   ]
  },
  {
   "attachments": {
    "%D0%A1%D0%BD%D0%B8%D0%BC%D0%BE%D0%BA%20%D1%8D%D0%BA%D1%80%D0%B0%D0%BD%D0%B0%202022-03-18%20110442.png": {
     "image/png": "[encoded data removed]"
    }
   },
   "cell_type": "markdown",
   "id": "588b310f",
   "metadata": {},
   "source": [
    "![%D0%A1%D0%BD%D0%B8%D0%BC%D0%BE%D0%BA%20%D1%8D%D0%BA%D1%80%D0%B0%D0%BD%D0%B0%202022-03-18%20110442.png](attachment:%D0%A1%D0%BD%D0%B8%D0%BC%D0%BE%D0%BA%20%D1%8D%D0%BA%D1%80%D0%B0%D0%BD%D0%B0%202022-03-18%20110442.png)"
   ]
  },
  {
   "cell_type": "markdown",
   "id": "59d13dc7",
   "metadata": {},
   "source": [
    "### Задание №6\n",
    "Дан файл из символов. Используя стек, за один просмотр файла напечатать сначала все цифры, затем все буквы, и, наконец, все остальные символы, сохраняя исходный порядок в каждой группе символов."
   ]
  },
  {
   "cell_type": "code",
   "execution_count": 104,
   "id": "297e36c2",
   "metadata": {
    "scrolled": true
   },
   "outputs": [
    {
     "name": "stdout",
     "output_type": "stream",
     "text": [
      "Letters:  sdhfjksbfksdkskhjfsfiwfiwefwwrwerwerjwbefkjnhjsdbfjbdfdfkhbjsdfskdfsbdfjhsdfbsdfskdbf\n",
      "Digits:  2349823932934239472384238827\n",
      "Others:  ?/...<<.,]]..,\n"
     ]
    }
   ],
   "source": [
    "file = open('text5.txt', 'r')\n",
    "stroka = file.read()\n",
    "\n",
    "letters = Stack()  \n",
    "digits = Stack()\n",
    "others = Stack()\n",
    "    \n",
    "for symbol in stroka:\n",
    "    if symbol.isdigit():\n",
    "        digits.push(symbol)\n",
    "    elif symbol.isalpha():\n",
    "        letters.push(symbol)\n",
    "    else:\n",
    "        others.push(symbol)\n",
    "\n",
    "digits1 = ''    \n",
    "letters1 = ''\n",
    "others1 = ''\n",
    "\n",
    "while not digits.Empty():\n",
    "    digits1 += digits.pop()\n",
    "while not letters.Empty():\n",
    "    letters1 += letters.pop()\n",
    "while not others.Empty():\n",
    "    others1 += others.pop()\n",
    "    \n",
    "print('Letters: ', letters1[::-1])\n",
    "print('Digits: ', digits1[::-1])\n",
    "print('Others: ', others1[::-1])\n",
    "        \n",
    "file.close()"
   ]
  },
  {
   "attachments": {
    "image.png": {
     "image/png": "[encoded data removed]"
    }
   },
   "cell_type": "markdown",
   "id": "b6b18a50",
   "metadata": {},
   "source": [
    "![image.png](attachment:image.png)"
   ]
  },
  {
   "cell_type": "markdown",
   "id": "973f68bd",
   "metadata": {},
   "source": [
    "### Задание №7\n",
    "Дан файл из целых чисел. Используя дек, за один просмотр файла напечатать сначала все отрицательные числа, затем все положительные числа, сохраняя исходный порядок в каждой группе."
   ]
  },
  {
   "cell_type": "code",
   "execution_count": 88,
   "id": "c56fad66",
   "metadata": {
    "scrolled": true
   },
   "outputs": [
    {
     "name": "stdout",
     "output_type": "stream",
     "text": [
      "-7\n",
      "-100\n",
      "-14\n",
      "-17\n",
      "-90\n",
      "-186\n",
      "1\n",
      "2\n",
      "3\n",
      "1\n",
      "6\n",
      "8\n",
      "789\n",
      "87\n",
      "91\n",
      "67\n",
      "['1', '2', '3', '1', '6', '-7', '8', '-100', '-14', '789', '-17', '87', '-90', '91', '67', '-186']\n"
     ]
    }
   ],
   "source": [
    "file = open('text6.txt', 'r')\n",
    "nums = file.read()\n",
    "\n",
    "nums = nums.split(' ')\n",
    "deq = Deque()\n",
    "\n",
    "for num in nums: #запись в обратном порядке; - влево, + вправо\n",
    "    if int(num) < 0:\n",
    "        deq.addRear(num)\n",
    "    else:\n",
    "        deq.addFront(num)\n",
    "\n",
    "while not deq.isEmpty(): #перемещаю - вправо, + продвигаются к левому краю; так происходит reverse порядка на начальный\n",
    "    a = deq.removeRear()\n",
    "    if int(a) < 0:\n",
    "        deq.addFront(a)\n",
    "    else:\n",
    "        deq.addRear(a)\n",
    "        break\n",
    "\n",
    "while not deq.isEmpty(): #извлекаем справа все - числа, доходим до +, когда понимаем, что это +, возвращаем обратно в deq\n",
    "    a = deq.removeFront()\n",
    "    if int(a) < 0:\n",
    "        print(a)\n",
    "    else:\n",
    "        deq.addFront(a)\n",
    "        break\n",
    "\n",
    "while not deq.isEmpty(): #печатаем оставшиеся положительные числа\n",
    "    print(deq.removeRear())\n",
    "    \n",
    "print(nums)"
   ]
  },
  {
   "attachments": {
    "image.png": {
     "image/png": "[encoded data removed]"
    }
   },
   "cell_type": "markdown",
   "id": "773e957f",
   "metadata": {},
   "source": [
    "![image.png](attachment:image.png)"
   ]
  },
  {
   "cell_type": "markdown",
   "id": "b9228191",
   "metadata": {},
   "source": [
    "### Задание №8\n",
    "Дан текстовый файл. Используя стек, сформировать новый текстовый файл, содержащий строки исходного файла, записанные в обратном порядке: первая строка становится последней, вторая – предпоследней и т.д."
   ]
  },
  {
   "cell_type": "code",
   "execution_count": 105,
   "id": "981fbdfe",
   "metadata": {
    "scrolled": true
   },
   "outputs": [
    {
     "name": "stdout",
     "output_type": "stream",
     "text": [
      "There\n",
      "those\n",
      "thousand\n",
      "thinkers\n",
      "were\n",
      "thinking\n",
      "how\n",
      "did\n",
      "the\n",
      "other\n",
      "three\n",
      "thieves\n",
      "go\n",
      "through\n",
      "----------------\n",
      "through\n",
      "go\n",
      "thieves\n",
      "three\n",
      "other\n",
      "the\n",
      "did\n",
      "how\n",
      "thinking\n",
      "were\n",
      "thinkers\n",
      "thousand\n",
      "those\n",
      "There\n"
     ]
    }
   ],
   "source": [
    "f = \"text8.txt\"\n",
    "fo = \"text8new.txt\"\n",
    "def rev(fl, flo):\n",
    "    fl = open(fl)\n",
    "    stck = Stack()\n",
    "    for line in fl:\n",
    "        print(line, end=\"\")\n",
    "        stck.push(line.replace('\\n',\"\"))\n",
    "    fl.close()\n",
    "    print(\"\\n----------------\")\n",
    "    flo = open(flo, 'w')\n",
    "    while not stck.Empty():\n",
    "        i = stck.pop()\n",
    "        print(i)\n",
    "        flo.write(i+'\\n')\n",
    "    flo.close()\n",
    "rev(f,fo)"
   ]
  },
  {
   "attachments": {
    "image.png": {
     "image/png": "[encoded data removed]"
    }
   },
   "cell_type": "markdown",
   "id": "ce9013d7",
   "metadata": {},
   "source": [
    "![image.png](attachment:image.png)"
   ]
  },
  {
   "cell_type": "markdown",
   "id": "rental-jerusalem",
   "metadata": {},
   "source": [
    "### Вывод\n"
   ]
  },
  {
   "cell_type": "markdown",
   "id": "0c2b8899",
   "metadata": {},
   "source": [
    "Дек - последовательность, которая предоставляет последовательный доступ к элементам. Удаление и добавление элментов в дек производится с обоих его концов. Дек - динамический массив. Добавление элементов сверх его длины приводит к отбрасыванию элементов с его конца.\n",
    "В стеке элементы добавляются и удаляются в его вершине. Стек организован по принципу First In - First Out. "
   ]
  }
 ],
 "metadata": {
  "kernelspec": {
   "display_name": "Python 3 (ipykernel)",
   "language": "python",
   "name": "python3"
  },
  "language_info": {
   "codemirror_mode": {
    "name": "ipython",
    "version": 3
   },
   "file_extension": ".py",
   "mimetype": "text/x-python",
   "name": "python",
   "nbconvert_exporter": "python",
   "pygments_lexer": "ipython3",
   "version": "3.9.7"
  }
 },
 "nbformat": 4,
 "nbformat_minor": 5
}
