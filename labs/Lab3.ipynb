{
 "cells": [
  {
   "cell_type": "markdown",
   "id": "db4b50f0",
   "metadata": {},
   "source": [
    "# Лабораторная работа №3\n",
    "## Выполнил студент группы Станолевич Владислав БВТ2004"
   ]
  },
  {
   "cell_type": "markdown",
   "id": "annual-symbol",
   "metadata": {},
   "source": [
    "### Оглавление\n",
    "1. [Задание 1](#Задание-№1)\n",
    "2. [Задание 2](#Задание-№2)\n",
    "4. [Вывод](#Вывод)"
   ]
  },
  {
   "cell_type": "markdown",
   "id": "independent-spirit",
   "metadata": {},
   "source": [
    "> Дополнительные модули, использованные при выполнение лабораторной"
   ]
  },
  {
   "cell_type": "code",
   "execution_count": 1,
   "id": "4839be2b",
   "metadata": {},
   "outputs": [],
   "source": [
    "# Необходим при замере скорости выполнения кода\n",
    "from datetime import datetime as t\n",
    "# Нужен для создания словаря в алг. Бойера-Мура\n",
    "from collections import defaultdict"
   ]
  },
  {
   "cell_type": "markdown",
   "id": "inclusive-motorcycle",
   "metadata": {},
   "source": [
    "### Задание №1\n",
    "Реализовать методы поиска подстроки в строке. Добавить возможность ввода строки и подстроки с клавиатуры. Предусмотреть возможность существования пробела. Реализовать возможность выбора опции чувствительности или нечувствительности к регистру. Оценить время работы каждого алгоритма поиска и сравнить его со временем работы стандартной функции поиска, используемой в выбранном языке программирования."
   ]
  },
  {
   "cell_type": "markdown",
   "id": "interracial-communication",
   "metadata": {},
   "source": [
    "#### Алгоритм Кнута-Морриса-Пратта"
   ]
  },
  {
   "cell_type": "code",
   "execution_count": 9,
   "id": "presidential-level",
   "metadata": {},
   "outputs": [
    {
     "name": "stdout",
     "output_type": "stream",
     "text": [
      "Введите строку: dfgseqwertyfbndfl\n",
      "Введите подстроку: qwerty\n",
      "Если Вам нужна чувствительность регистра введите - 1, если нет - 0: 0\n",
      "5\n",
      "Время Алгоритма Кнута-Морриса-Пратта: --- 0.215200 ms ---\n",
      "5\n",
      "Результат стандартного поиска: --- 0.104700 ms ---\n"
     ]
    }
   ],
   "source": [
    "import time\n",
    "def prefix_function(text):\n",
    "    n = len(text)\n",
    "    pi = [0]*n\n",
    "    for i in range(1, n):\n",
    "        j = pi[i-1]\n",
    "        while j > 0 and text[j] != text [i]:\n",
    "            j = pi[j-1]\n",
    "        if text[i] == text[j]:\n",
    "            j += 1\n",
    "        pi[i] = j\n",
    "    return pi\n",
    "\n",
    "def kmp_search(text, sub_text, start_index=0):\n",
    "    j = 0\n",
    "    pi = prefix_function(sub_text)\n",
    "    for i in range(start_index, len(text)):\n",
    "        while j > 0 and text[i] != sub_text[j]:\n",
    "            j = pi[j-1]\n",
    "        if text[i] == sub_text[j]:\n",
    "            j+=1\n",
    "        if j >= len(sub_text):\n",
    "            return i-j+1\n",
    "    return None\n",
    "\n",
    "text = input('Введите строку: ')\n",
    "sub_text = input('Введите подстроку: ')\n",
    "f=input('Если Вам нужна чувствительность регистра введите - 1, если нет - 0: ')\n",
    "if(f==\"0\"):\n",
    "    text=text.lower()\n",
    "    sub_text=sub_text.lower()\n",
    "start_time = time.perf_counter()\n",
    "print(kmp_search(text, sub_text, 0))\n",
    "print(\"Время Алгоритма Кнута-Морриса-Пратта: --- {:.6f} ms ---\".format((time.perf_counter() - start_time) * 1000))\n",
    "\n",
    "start_time = time.perf_counter()\n",
    "print(text.find(sub_text))\n",
    "print(\"Результат стандартного поиска: --- {:.6f} ms ---\".format((time.perf_counter() - start_time) * 1000))\n"
   ]
  },
  {
   "cell_type": "markdown",
   "id": "downtown-option",
   "metadata": {},
   "source": [
    "#### Упрощенный алгоритм Бойера-Мура"
   ]
  },
  {
   "cell_type": "code",
   "execution_count": 10,
   "id": "respective-reggae",
   "metadata": {},
   "outputs": [
    {
     "name": "stdout",
     "output_type": "stream",
     "text": [
      "Введите строку: dfgseqwertyfbndfl\n",
      "Введите подстроку: qwerty\n",
      "Если Вам нужна чувствительность регистра введите - 1, если нет - 0: 0\n",
      "5\n",
      "Время Алгоритма Бойера-Мура: --- 0.245200 ms ---\n",
      "5\n",
      "Результат стандартного поиска: --- 0.111900 ms ---\n"
     ]
    }
   ],
   "source": [
    "import time\n",
    "def bmPredCompil(x):\n",
    "    d = {}\n",
    "    lenX = len(x)\n",
    "    for i in range(len(x)):\n",
    "        # сколько символов с правого края до этой буквы\n",
    "        d[ord(x[i])] = lenX - i\n",
    "    return d\n",
    "\n",
    "\n",
    "def boyerMurSearch(s, x):\n",
    "    d = bmPredCompil(x)\n",
    "    # k - проход по s\n",
    "    # j - проход по x\n",
    "    # i - место начала прохода по s\n",
    "    lenX = i = j = k = len(x)\n",
    "    while j > 0 and i<=len(s):\n",
    "     # совпали, двигаемся дальше (от конца к началу)\n",
    "        if s[k-1] == x[j-1]:\n",
    "            k -= 1\n",
    "            j -= 1\n",
    "        # иначе, продвигаемся по строке на d и начинаем с правого конца подстроки снова\n",
    "        else:\n",
    "            i += d[ord(s[i])]\n",
    "            j = lenX\n",
    "            k = i\n",
    "    if j <= 0:# нашли\n",
    "        return k\n",
    "    return None # не нашли\n",
    "\n",
    "text = input('Введите строку: ')\n",
    "sub_text = input('Введите подстроку: ')\n",
    "f=input('Если Вам нужна чувствительность регистра введите - 1, если нет - 0: ')\n",
    "if(f==\"0\"):\n",
    "    text=text.lower()\n",
    "    sub_text=sub_text.lower()\n",
    "start_time = time.perf_counter()\n",
    "print(boyerMurSearch(text, sub_text))\n",
    "print(\"Время Алгоритма Бойера-Мура: --- {:.6f} ms ---\".format((time.perf_counter() - start_time) * 1000))\n",
    "\n",
    "start_time = time.perf_counter()\n",
    "print(text.find(sub_text))\n",
    "print(\"Результат стандартного поиска: --- {:.6f} ms ---\".format((time.perf_counter() - start_time) * 1000))"
   ]
  },
  {
   "cell_type": "markdown",
   "id": "hybrid-memorial",
   "metadata": {},
   "source": [
    "### Задание №2\n",
    "Написать программу, определяющую, является ли данное\n",
    "расположение «решаемым», то есть можно ли из него за конечное число\n",
    "шагов перейти к правильному. Если это возможно, то необходимо найти хотя\n",
    "бы одно решение - последовательность движений, после которой числа будут\n",
    "расположены в правильном порядке.\n",
    "#### Входные данные: массив чисел, представляющий собой расстановку в\n",
    "Порядке «слева направо, сверху вниз». Число 0 обозначает пустое поле.\n",
    "Например, массив [1, 2, 3, 4, 5, 6, 7, 8, 9, 10, 11, 12, 13, 14, 15, 0] представляет\n",
    "собой «решенную» позицию элементов.\n",
    "#### Выходные данные: если решения нет, то функция должна вернуть\n",
    "Пустой массив []. Если решение есть, то необходимо представить решение —\n",
    "для каждого шага записывается номер передвигаемого на данном шаге\n",
    "элемента. "
   ]
  },
  {
   "cell_type": "code",
   "execution_count": 1,
   "id": "eleven-generic",
   "metadata": {},
   "outputs": [
    {
     "name": "stdout",
     "output_type": "stream",
     "text": [
      "[15, 14, 10, 13, 9, 10, 14, 15]\n"
     ]
    }
   ],
   "source": [
    "import math\n",
    "from queue import PriorityQueue\n",
    "\n",
    "N = 4 #размерность игры\n",
    "SOLVED = (1, 2, 3, 4, 5, 6, 7, 8, 9, 10, 11, 12, 13, 14, 15, 0)\n",
    "start = [1, 2, 3, 4, 5, 6, 7, 8, 13, 9, 11, 12, 10, 14, 15, 0]\n",
    "\n",
    "#проверка решаемости позиции\n",
    "def reshenie(mass): \n",
    "    summ=int(0)\n",
    "    for i in range(len(mass)):\n",
    "        for j in range(i, len(mass)):\n",
    "            if mass[i]==0:\n",
    "                summ=summ+math.floor((i+1)/4)\n",
    "            elif mass[i]>mass[j]:\n",
    "                summ += 1\n",
    "    return summ%2==1\n",
    "\n",
    "def moves(position):\n",
    "    blank = position.index(0)\n",
    "    i, j = divmod(blank, N)\n",
    "    offsets = []\n",
    "    if i > 0: offsets.append(-N)     # вниз\n",
    "    if i < N - 1: offsets.append(N)  # вверх\n",
    "    if j > 0: offsets.append(-1)     # вправо\n",
    "    if j < N - 1: offsets.append(1)  # влево\n",
    "    for offset in offsets:\n",
    "        swap = blank + offset\n",
    "        yield tuple(position[swap] if x==blank else position[blank] if x==swap else position[x] for x in range(N*N))\n",
    "\n",
    "class Position:\n",
    "    def __init__(self, position, start_distance):\n",
    "        self.position = position\n",
    "        self.start_distance = start_distance\n",
    "\n",
    "    def __lt__(self, other):\n",
    "        return self.start_distance < other.start_distance\n",
    "\n",
    "if reshenie(start) == 0:\n",
    "    print('Нерешаемая позиция')\n",
    "else:\n",
    "    # картеж\n",
    "    start = tuple(start)\n",
    "    p = Position(start, 0)\n",
    "    # очередь \n",
    "    candidates = PriorityQueue()\n",
    "    candidates.put(p)\n",
    "    # множество \n",
    "    visited = set([p])\n",
    "\n",
    "    came_from = {p.position: None}\n",
    "    \n",
    "    while p.position != SOLVED:\n",
    "        p = candidates.get()\n",
    "        for k in moves(p.position):\n",
    "            if k not in visited:\n",
    "                candidates.put(Position(k, p.start_distance + 1))\n",
    "                came_from[k] = p\n",
    "                visited.add(k)\n",
    "    path = []\n",
    "    prev = p\n",
    "    while p.position != start:\n",
    "        p = came_from[p.position]\n",
    "        number = p.position[prev.position.index(0)]\n",
    "        path.append(number)\n",
    "        prev = p\n",
    "    path.reverse()\n",
    "\n",
    "    print(path)"
   ]
  },
  {
   "cell_type": "markdown",
   "id": "arbitrary-amazon",
   "metadata": {},
   "source": [
    "### Вывод"
   ]
  },
  {
   "cell_type": "markdown",
   "id": "71bc58bf",
   "metadata": {},
   "source": []
  }
 ],
 "metadata": {
  "kernelspec": {
   "display_name": "Python 3 (ipykernel)",
   "language": "python",
   "name": "python3"
  },
  "language_info": {
   "codemirror_mode": {
    "name": "ipython",
    "version": 3
   },
   "file_extension": ".py",
   "mimetype": "text/x-python",
   "name": "python",
   "nbconvert_exporter": "python",
   "pygments_lexer": "ipython3",
   "version": "3.9.7"
  }
 },
 "nbformat": 4,
 "nbformat_minor": 5
}
