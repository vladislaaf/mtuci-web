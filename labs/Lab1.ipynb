{
 "cells": [
  {
   "cell_type": "markdown",
   "id": "fifteen-sailing",
   "metadata": {},
   "source": [
    "# Лабораторная работа №1\n",
    "## Выполнил студент группы БВТ2004 Станолевич Владислав"
   ]
  },
  {
   "cell_type": "markdown",
   "id": "particular-syndicate",
   "metadata": {},
   "source": [
    "### Оглавление\n",
    "1. [Задание 1](#Задание-№1)\n",
    "2. [Задание 2](#Задание-№2)\n",
    "3. [Задание 3](#Задание-№3)\n",
    "4. [Вывод](#Вывод)"
   ]
  },
  {
   "cell_type": "markdown",
   "id": "arctic-stocks",
   "metadata": {},
   "source": [
    "### Задание №1\n",
    "<i> Вызвать функцию print() и передать туда строку Hello, World! </i>"
   ]
  },
  {
   "cell_type": "code",
   "execution_count": null,
   "id": "caring-truck",
   "metadata": {
    "scrolled": true
   },
   "outputs": [],
   "source": [
    "print(\"Hello, World\")"
   ]
  },
  {
   "cell_type": "markdown",
   "id": "maritime-conversation",
   "metadata": {},
   "source": [
    "### Задание №2\n",
    "Написать генератор случайных матриц(многомерных), который принимает\n",
    "опциональные параметры <b>m</b>, <b>n</b>, <b>min_limit</b>, <b>max_limit</b>, где <b>m</b> и <b>n</b> указывают размер\n",
    "матрицы, а <b>min_lim</b> и <b>max_lim</b> - минимальное и максимальное значение для\n",
    "генерируемого числа."
   ]
  },
  {
   "cell_type": "code",
   "execution_count": 8,
   "id": "built-contact",
   "metadata": {},
   "outputs": [],
   "source": [
    "import random\n",
    "import time\n",
    "from copy import *"
   ]
  },
  {
   "cell_type": "code",
   "execution_count": 9,
   "id": "alert-charm",
   "metadata": {
    "scrolled": true
   },
   "outputs": [
    {
     "name": "stdout",
     "output_type": "stream",
     "text": [
      "Введите ширину матрицы: 10\n",
      "Введите длину матрицы: 9\n",
      "Введите минимальный элемент матрицы: 9\n",
      "Введите максимальный элемент матрицы: 156\n",
      "  16 156 115 139 120  97  90 104  81 144\n",
      "  54  97 144  65 122  91  18  51  48  96\n",
      " 141  20 140  16  36 107 132  53  22  26\n",
      " 139 102  49 145 115  70  33 139  17 109\n",
      " 156  75  37  73  67 107  67  87 140 122\n",
      " 116  60  68 123 156  60  43 129  44  86\n",
      "  65 139  94  53 129  44  22  82 123  21\n",
      "  82  80  75  43  76  28  90  67  96 115\n",
      "  22   9 132  62  22  33 117 100   9 149\n"
     ]
    }
   ],
   "source": [
    "def printMatrix(matrix: list[list[int]]):\n",
    "    print('\\n'.join([''.join(['{:4}'.format(elem) for elem in row]) for row in matrix]))\n",
    "\n",
    "def createArrey(m: int, n: int, min_limit: int, max_limit: int,):\n",
    "    return [[random.randint(min_limit, max_limit) for y in range(m)] for x in range(n)]\n",
    "user_m = int(input('Введите ширину матрицы: '))\n",
    "user_n = int(input('Введите длину матрицы: '))\n",
    "user_min_limit = int(input(\"Введите минимальный элемент матрицы: \"))\n",
    "user_max_limit = int(input(\"Введите максимальный элемент матрицы: \"))  \n",
    "matrix = createArrey(user_m, user_n, user_min_limit, user_max_limit)\n",
    "printMatrix(matrix)"
   ]
  },
  {
   "cell_type": "markdown",
   "id": "catholic-roots",
   "metadata": {},
   "source": [
    "### Задание №3\n",
    "Реализовать методы сортировки строк числовой матрицы в соответствии с\n",
    "заданием. Оценить время работы каждого алгоритма сортировки и сравнить его со\n",
    "временем стандартной функции сортировки. Испытания проводить на сгенерированных\n",
    "матрицах."
   ]
  },
  {
   "cell_type": "code",
   "execution_count": 10,
   "id": "opposed-creature",
   "metadata": {},
   "outputs": [],
   "source": [
    "import copy"
   ]
  },
  {
   "cell_type": "code",
   "execution_count": 11,
   "id": "cleared-anniversary",
   "metadata": {
    "scrolled": true
   },
   "outputs": [
    {
     "name": "stdout",
     "output_type": "stream",
     "text": [
      "--- 0.160200 ms ---\n",
      "   9   9  22  22  33  62 100 117 132 149\n",
      "  16  20  22  26  36  53 107 132 140 141\n",
      "  16  81  90  97 104 115 120 139 144 156\n",
      "  17  33  49  70 102 109 115 139 139 145\n",
      "  18  48  51  54  65  91  96  97 122 144\n",
      "  21  22  44  53  65  82  94 123 129 139\n",
      "  28  43  67  75  76  80  82  90  96 115\n",
      "  37  67  67  73  75  87 107 122 140 156\n",
      "  43  44  60  60  68  86 116 123 129 156\n"
     ]
    }
   ],
   "source": [
    "# Сортировка выбором.\n",
    "# Берётся срез массива, в котором минимальный элемент переносят в самый левый угол,\n",
    "# после чего срез уменьшается и цикл повторяется.\n",
    "#TODO\n",
    "def selectionSort(values: list):\n",
    "    for x in range(len(values) - 1):\n",
    "        max_val = values[x]\n",
    "        max_index = x\n",
    "        for y in range(x, len(values)):\n",
    "            if max_val > values[y]:\n",
    "                max_val = values[y]\n",
    "                max_index = y\n",
    "        values[x], values[max_index] = values[max_index], values[x]\n",
    "start_time = time.perf_counter()\n",
    "\n",
    "for row in matrix:\n",
    "    selectionSort(row)\n",
    "        \n",
    "selectionSort(matrix)\n",
    "        \n",
    "print(\"--- {:.6f} ms ---\".format((time.perf_counter() - start_time) * 1000))\n",
    "printMatrix(matrix)"
   ]
  },
  {
   "cell_type": "code",
   "execution_count": 12,
   "id": "roman-silly",
   "metadata": {
    "scrolled": true
   },
   "outputs": [
    {
     "name": "stdout",
     "output_type": "stream",
     "text": [
      "--- 0.112600 ms ---\n",
      "   9   9  22  22  33  62 100 117 132 149\n",
      "  16  20  22  26  36  53 107 132 140 141\n",
      "  16  81  90  97 104 115 120 139 144 156\n",
      "  17  33  49  70 102 109 115 139 139 145\n",
      "  18  48  51  54  65  91  96  97 122 144\n",
      "  21  22  44  53  65  82  94 123 129 139\n",
      "  28  43  67  75  76  80  82  90  96 115\n",
      "  37  67  67  73  75  87 107 122 140 156\n",
      "  43  44  60  60  68  86 116 123 129 156\n"
     ]
    }
   ],
   "source": [
    "# Сортировка вставкой.\n",
    "\n",
    "#TODO\n",
    "matrix = deepcopy(matrix)\n",
    "\n",
    "def insertionSort(values: list):\n",
    "    for i in range(len(values)):\n",
    "        buffer = values[i]\n",
    "        j = i - 1\n",
    "        while buffer < values[j] and j >= 0:\n",
    "            values[j + 1] = values[j]\n",
    "            j -= 1\n",
    "        values[j + 1] = buffer\n",
    "\n",
    "start_time = time.perf_counter()\n",
    "\n",
    "for row in matrix:\n",
    "    insertionSort(row)\n",
    "    \n",
    "insertionSort(matrix)\n",
    "\n",
    "print(\"--- {:.6f} ms ---\".format((time.perf_counter() - start_time) * 1000))\n",
    "printMatrix(matrix)"
   ]
  },
  {
   "cell_type": "code",
   "execution_count": 13,
   "id": "vital-implementation",
   "metadata": {},
   "outputs": [
    {
     "name": "stdout",
     "output_type": "stream",
     "text": [
      "--- 0.371200 ms ---\n",
      "   9   9  22  22  33  62 100 117 132 149\n",
      "  16  20  22  26  36  53 107 132 140 141\n",
      "  16  81  90  97 104 115 120 139 144 156\n",
      "  17  33  49  70 102 109 115 139 139 145\n",
      "  18  48  51  54  65  91  96  97 122 144\n",
      "  21  22  44  53  65  82  94 123 129 139\n",
      "  28  43  67  75  76  80  82  90  96 115\n",
      "  37  67  67  73  75  87 107 122 140 156\n",
      "  43  44  60  60  68  86 116 123 129 156\n"
     ]
    }
   ],
   "source": [
    "# Сортировка обменом. || Сортировка пузырьком.\n",
    "matrix = deepcopy(matrix)\n",
    "\n",
    "def bubbleSort(values: list):\n",
    "    for i in range(len(values) - 1):\n",
    "        for j in range(len(values) - 1 - i):\n",
    "            if values[j] > values[j + 1]:\n",
    "                values[j], values[j + 1] = values[j + 1], values[j]\n",
    "\n",
    "start_time = time.perf_counter()\n",
    "                \n",
    "for row in matrix:\n",
    "    bubbleSort(row)\n",
    "    \n",
    "bubbleSort(matrix)\n",
    "\n",
    "print(\"--- {:.6f} ms ---\".format((time.perf_counter() - start_time) * 1000))\n",
    "printMatrix(matrix)"
   ]
  },
  {
   "cell_type": "code",
   "execution_count": 14,
   "id": "veterinary-glory",
   "metadata": {},
   "outputs": [
    {
     "name": "stdout",
     "output_type": "stream",
     "text": [
      "--- 0.300900 ms ---\n",
      "   9   9  22  22  33  62 100 117 132 149\n",
      "  16  20  22  26  36  53 107 132 140 141\n",
      "  16  81  90  97 104 115 120 139 144 156\n",
      "  17  33  49  70 102 109 115 139 139 145\n",
      "  18  48  51  54  65  91  96  97 122 144\n",
      "  21  22  44  53  65  82  94 123 129 139\n",
      "  28  43  67  75  76  80  82  90  96 115\n",
      "  37  67  67  73  75  87 107 122 140 156\n",
      "  43  44  60  60  68  86 116 123 129 156\n"
     ]
    }
   ],
   "source": [
    "# Сортировка Шелла.\n",
    "matrix = deepcopy(matrix)\n",
    "\n",
    "def shell(values: list):\n",
    "    step = len(values) >> 1\n",
    "    while step > 0:\n",
    "        for i in range(step, len(values)):\n",
    "            buffer = values[i]\n",
    "            j = i - step\n",
    "            while buffer < values[j] and j >= 0:\n",
    "                values[j + step] = values[j]\n",
    "                j -= step\n",
    "            values[j + step] = buffer\n",
    "        step = step >> 1\n",
    "\n",
    "start_time = time.perf_counter()\n",
    "\n",
    "for row in matrix:\n",
    "    shell(row)\n",
    "    \n",
    "shell(matrix)\n",
    "\n",
    "print(\"--- {:.6f} ms ---\".format((time.perf_counter() - start_time) * 1000))\n",
    "printMatrix(matrix)"
   ]
  },
  {
   "cell_type": "code",
   "execution_count": 15,
   "id": "correct-chaos",
   "metadata": {
    "scrolled": true
   },
   "outputs": [
    {
     "name": "stdout",
     "output_type": "stream",
     "text": [
      "--- 0.161000 ms ---\n",
      "   9   9  22  22  33  62 100 117 132 149\n",
      "  16  20  22  26  36  53 107 132 140 141\n",
      "  16  81  90  97 104 115 120 139 144 156\n",
      "  17  33  49  70 102 109 115 139 139 145\n",
      "  18  48  51  54  65  91  96  97 122 144\n",
      "  21  22  44  53  65  82  94 123 129 139\n",
      "  28  43  67  75  76  80  82  90  96 115\n",
      "  37  67  67  73  75  87 107 122 140 156\n",
      "  43  44  60  60  68  86 116 123 129 156\n"
     ]
    }
   ],
   "source": [
    "# Быстрая сортировка.\n",
    "matrix = deepcopy(matrix)\n",
    "\n",
    "def fastSort(m):\n",
    "    if len(m) <= 1:\n",
    "        return m\n",
    "    else:\n",
    "        x = m[len(m)//2]\n",
    "        y = []\n",
    "        z = []\n",
    "        b = []\n",
    "        for i in m:\n",
    "            if i < x:\n",
    "                y.append(i)\n",
    "            elif i > x:\n",
    "                z.append(i)\n",
    "            else:\n",
    "                b.append(i)\n",
    "        return fastSort(y) + b + fastSort(z)\n",
    "        \n",
    "\n",
    "start_time = time.perf_counter()        \n",
    "\n",
    "for i in range(len(matrix)):\n",
    "    matrix[i] = fastSort(matrix[i])\n",
    "    \n",
    "matrix = fastSort(matrix)\n",
    "    \n",
    "print(\"--- {:.6f} ms ---\".format((time.perf_counter() - start_time) * 1000))\n",
    "printMatrix(matrix)  "
   ]
  },
  {
   "cell_type": "code",
   "execution_count": 16,
   "id": "french-czech",
   "metadata": {
    "scrolled": false
   },
   "outputs": [
    {
     "name": "stdout",
     "output_type": "stream",
     "text": [
      "--- 0.124600 ms ---\n",
      "   9   9  22  22  33  62 100 117 132 149\n",
      "  16  20  22  26  36  53 107 132 140 141\n",
      "  16  81  90  97 104 115 120 139 144 156\n",
      "  17  33  49  70 102 109 115 139 139 145\n",
      "  18  48  51  54  65  91  96  97 122 144\n",
      "  21  22  44  53  65  82  94 123 129 139\n",
      "  28  43  67  75  76  80  82  90  96 115\n",
      "  37  67  67  73  75  87 107 122 140 156\n",
      "  43  44  60  60  68  86 116 123 129 156\n"
     ]
    }
   ],
   "source": [
    "# Турнирная сортировка с многопутевым слиянием.\n",
    "from heapq import *\n",
    "matrix = copy.copy(matrix)\n",
    "\n",
    "def tournamentSort(m):\n",
    "    h = []\n",
    "    for i in m:\n",
    "        heappush(h, i)\n",
    "    for i in range(len(m)):\n",
    "        m[i] = heappop(h)\n",
    "\n",
    "start_time = time.perf_counter()  \n",
    "#TODO\n",
    "\n",
    "for i in range(len(matrix)):\n",
    "    tournamentSort(matrix[i])\n",
    "    \n",
    "tournamentSort(matrix)\n",
    "\n",
    "print(\"--- {:.6f} ms ---\".format((time.perf_counter() - start_time) * 1000))\n",
    "printMatrix(matrix)\n"
   ]
  },
  {
   "cell_type": "code",
   "execution_count": 17,
   "id": "e17f8d8e",
   "metadata": {},
   "outputs": [
    {
     "name": "stdout",
     "output_type": "stream",
     "text": [
      "--- 0.103600 ms ---\n",
      "   9   9  22  22  33  62 100 117 132 149\n",
      "  16  20  22  26  36  53 107 132 140 141\n",
      "  16  81  90  97 104 115 120 139 144 156\n",
      "  17  33  49  70 102 109 115 139 139 145\n",
      "  18  48  51  54  65  91  96  97 122 144\n",
      "  21  22  44  53  65  82  94 123 129 139\n",
      "  28  43  67  75  76  80  82  90  96 115\n",
      "  37  67  67  73  75  87 107 122 140 156\n",
      "  43  44  60  60  68  86 116 123 129 156\n"
     ]
    }
   ],
   "source": [
    "# Сортировка с использованием стандартной функции сортировки\n",
    "matrix = deepcopy(matrix)\n",
    "start_time = time.perf_counter()\n",
    "\n",
    "for row in matrix:\n",
    "    row.sort()\n",
    "    \n",
    "matrix.sort()\n",
    "print(\"--- {:.6f} ms ---\".format((time.perf_counter() - start_time) * 1000))\n",
    "printMatrix(matrix)"
   ]
  },
  {
   "cell_type": "markdown",
   "id": "rental-jerusalem",
   "metadata": {},
   "source": [
    "### Вывод\n"
   ]
  },
  {
   "cell_type": "code",
   "execution_count": null,
   "id": "19e7f6a9",
   "metadata": {},
   "outputs": [],
   "source": [
    "Самая быстря сортировка - сортировка вставкой. Сортировка Шелла и сортировка обменом показали вторые лучшие результаты. Остальные типы сортировок уступают в скорости."
   ]
  }
 ],
 "metadata": {
  "kernelspec": {
   "display_name": "Python 3 (ipykernel)",
   "language": "python",
   "name": "python3"
  },
  "language_info": {
   "codemirror_mode": {
    "name": "ipython",
    "version": 3
   },
   "file_extension": ".py",
   "mimetype": "text/x-python",
   "name": "python",
   "nbconvert_exporter": "python",
   "pygments_lexer": "ipython3",
   "version": "3.9.7"
  }
 },
 "nbformat": 4,
 "nbformat_minor": 5
}
